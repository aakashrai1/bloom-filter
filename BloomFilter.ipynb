{
 "cells": [
  {
   "cell_type": "code",
   "execution_count": 1,
   "metadata": {
    "collapsed": true
   },
   "outputs": [],
   "source": [
    "import mmh3\n",
    "from bitarray import bitarray\n",
    "from collections import Counter"
   ]
  },
  {
   "cell_type": "code",
   "execution_count": 2,
   "metadata": {
    "collapsed": true
   },
   "outputs": [],
   "source": [
    "# Set S\n",
    "with open('dataset/bloom/listed_username_30.txt', 'r') as f:\n",
    "    text = f.read()\n",
    "    S = text.split('\\n')"
   ]
  },
  {
   "cell_type": "code",
   "execution_count": 3,
   "metadata": {
    "collapsed": true
   },
   "outputs": [],
   "source": [
    "# Stream to test\n",
    "with open('dataset/bloom/listed_username_365.txt', 'r') as f:\n",
    "    text = f.read()\n",
    "    Stream = text.split('\\n')  "
   ]
  },
  {
   "cell_type": "code",
   "execution_count": 4,
   "metadata": {
    "collapsed": true
   },
   "outputs": [],
   "source": [
    "# m => len(S) => 316851\n",
    "# n => Total number of bits in array => 4 * 316851 => 1267404\n",
    "# k = n/m * ln(2) => 2.77\n",
    "  \n",
    "# Initializing parameters\n",
    "n = 4 * len(S)\n",
    "k = 3 # ~ 2.77\n",
    "\n",
    "hashTable = Counter(S)\n",
    "\n",
    "# Initializing bit array\n",
    "bitArray = bitarray(n)\n",
    "bitArray.setall(0)"
   ]
  },
  {
   "cell_type": "code",
   "execution_count": 5,
   "metadata": {
    "collapsed": true
   },
   "outputs": [],
   "source": [
    "# Populating bit vector\n",
    "def addToBitArray(item):\n",
    "    for i in range(k):\n",
    "        bitIndex = mmh3.hash(item, i) % n\n",
    "        bitArray[bitIndex] = 1\n",
    "\n",
    "        \n",
    "for i in S:\n",
    "    addToBitArray(i)"
   ]
  },
  {
   "cell_type": "code",
   "execution_count": 6,
   "metadata": {
    "collapsed": true
   },
   "outputs": [],
   "source": [
    "# Testing the stream             \n",
    "def testItem(item):\n",
    "    for i in range(k):\n",
    "        bitIndex = mmh3.hash(item, i) % n\n",
    "        if (bitArray[bitIndex] == 0):\n",
    "            return False\n",
    "    return True"
   ]
  },
  {
   "cell_type": "code",
   "execution_count": 7,
   "metadata": {
    "collapsed": true
   },
   "outputs": [],
   "source": [
    "FPCount, TNCount = 0, 0\n",
    "for elem in Stream:\n",
    "    if (testItem(elem)):\n",
    "        if (elem not in hashTable):\n",
    "            FPCount += 1\n",
    "    else:\n",
    "        TNCount += 1"
   ]
  },
  {
   "cell_type": "code",
   "execution_count": 9,
   "metadata": {},
   "outputs": [
    {
     "name": "stdout",
     "output_type": "stream",
     "text": [
      "================================================================\n",
      "n (number of bits in an array) :  1267404\n",
      "m (number of elements in the set) :  316851\n",
      "k (number of hash functions) :  3\n",
      "False positive % :  14.686090663986018 %\n",
      "================================================================\n"
     ]
    }
   ],
   "source": [
    "print(\"================================================================\")\n",
    "print(\"n (number of bits in an array) : \", n)\n",
    "print(\"m (number of elements in the set) : \", len(S))\n",
    "print(\"k (number of hash functions) : \", k)\n",
    "print(\"False positive % : \", FPCount / (FPCount + TNCount) * 100, \"%\")\n",
    "print(\"================================================================\")"
   ]
  },
  {
   "cell_type": "code",
   "execution_count": null,
   "metadata": {
    "collapsed": true
   },
   "outputs": [],
   "source": []
  }
 ],
 "metadata": {
  "kernelspec": {
   "display_name": "Python 3",
   "language": "python",
   "name": "python3"
  },
  "language_info": {
   "codemirror_mode": {
    "name": "ipython",
    "version": 3
   },
   "file_extension": ".py",
   "mimetype": "text/x-python",
   "name": "python",
   "nbconvert_exporter": "python",
   "pygments_lexer": "ipython3",
   "version": "3.6.3"
  },
  "varInspector": {
   "cols": {
    "lenName": 16,
    "lenType": 16,
    "lenVar": 40
   },
   "kernels_config": {
    "python": {
     "delete_cmd_postfix": "",
     "delete_cmd_prefix": "del ",
     "library": "var_list.py",
     "varRefreshCmd": "print(var_dic_list())"
    },
    "r": {
     "delete_cmd_postfix": ") ",
     "delete_cmd_prefix": "rm(",
     "library": "var_list.r",
     "varRefreshCmd": "cat(var_dic_list()) "
    }
   },
   "types_to_exclude": [
    "module",
    "function",
    "builtin_function_or_method",
    "instance",
    "_Feature"
   ],
   "window_display": false
  }
 },
 "nbformat": 4,
 "nbformat_minor": 2
}
